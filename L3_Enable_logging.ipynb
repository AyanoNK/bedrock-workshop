{
 "cells": [
  {
   "cell_type": "markdown",
   "id": "cc6b7b9f-a75d-4b78-930f-26d2343ac2c2",
   "metadata": {},
   "source": [
    "# Lesson 3: Enable Logging"
   ]
  },
  {
   "cell_type": "markdown",
   "id": "06fc5839-0b4b-42a3-9aaf-99a97e347955",
   "metadata": {},
   "source": [
    "### Import all needed packages"
   ]
  },
  {
   "cell_type": "code",
   "execution_count": 1,
   "id": "63cf31e4",
   "metadata": {
    "height": 98
   },
   "outputs": [],
   "source": [
    "import boto3\n",
    "import json\n",
    "import os\n",
    "\n",
    "bedrock = boto3.client('bedrock', region_name=\"us-west-2\")"
   ]
  },
  {
   "cell_type": "code",
   "execution_count": 2,
   "id": "e5d9e31b",
   "metadata": {
    "height": 47
   },
   "outputs": [],
   "source": [
    "from helpers.CloudWatchHelper import CloudWatch_Helper\n",
    "cloudwatch = CloudWatch_Helper()"
   ]
  },
  {
   "cell_type": "code",
   "execution_count": 3,
   "id": "87a30e7e",
   "metadata": {
    "height": 30
   },
   "outputs": [],
   "source": [
    "log_group_name = '/my/amazon/bedrock/logs'"
   ]
  },
  {
   "cell_type": "code",
   "execution_count": 4,
   "id": "2461a51c",
   "metadata": {
    "height": 30
   },
   "outputs": [
    {
     "name": "stdout",
     "output_type": "stream",
     "text": [
      "Log group '/my/amazon/bedrock/logs' created successfully.\n"
     ]
    }
   ],
   "source": [
    "cloudwatch.create_log_group(log_group_name)"
   ]
  },
  {
   "cell_type": "code",
   "execution_count": 5,
   "id": "0afe5997",
   "metadata": {
    "height": 268
   },
   "outputs": [],
   "source": [
    "loggingConfig = {\n",
    "    'cloudWatchConfig': {\n",
    "        'logGroupName': log_group_name,\n",
    "        'roleArn': os.environ['LOGGINGROLEARN'],\n",
    "        'largeDataDeliveryS3Config': {\n",
    "            'bucketName': os.environ['LOGGINGBUCKETNAME'],\n",
    "            'keyPrefix': 'amazon_bedrock_large_data_delivery',\n",
    "        }\n",
    "    },\n",
    "    's3Config': {\n",
    "        'bucketName': os.environ['LOGGINGBUCKETNAME'],\n",
    "        'keyPrefix': 'amazon_bedrock_logs',\n",
    "    },\n",
    "    'textDataDeliveryEnabled': True,\n",
    "}"
   ]
  },
  {
   "cell_type": "code",
   "execution_count": 6,
   "id": "2ca33ffe",
   "metadata": {
    "height": 30
   },
   "outputs": [
    {
     "data": {
      "text/plain": [
       "{'ResponseMetadata': {'RequestId': '4e91f58a-48f1-45bf-bcb1-5a233be3489c',\n",
       "  'HTTPStatusCode': 200,\n",
       "  'HTTPHeaders': {'date': 'Tue, 25 Mar 2025 19:26:58 GMT',\n",
       "   'content-type': 'application/json',\n",
       "   'content-length': '2',\n",
       "   'connection': 'keep-alive',\n",
       "   'x-amzn-requestid': '4e91f58a-48f1-45bf-bcb1-5a233be3489c'},\n",
       "  'RetryAttempts': 0}}"
      ]
     },
     "execution_count": 6,
     "metadata": {},
     "output_type": "execute_result"
    }
   ],
   "source": [
    "bedrock.put_model_invocation_logging_configuration(loggingConfig=loggingConfig)"
   ]
  },
  {
   "cell_type": "code",
   "execution_count": 7,
   "id": "41fdb20d",
   "metadata": {
    "height": 30
   },
   "outputs": [
    {
     "data": {
      "text/plain": [
       "{'ResponseMetadata': {'RequestId': '38fe92e4-7215-477a-8712-8009d1c84e8a',\n",
       "  'HTTPStatusCode': 200,\n",
       "  'HTTPHeaders': {'date': 'Tue, 25 Mar 2025 19:26:58 GMT',\n",
       "   'content-type': 'application/json',\n",
       "   'content-length': '604',\n",
       "   'connection': 'keep-alive',\n",
       "   'x-amzn-requestid': '38fe92e4-7215-477a-8712-8009d1c84e8a'},\n",
       "  'RetryAttempts': 0},\n",
       " 'loggingConfig': {'cloudWatchConfig': {'logGroupName': '/my/amazon/bedrock/logs',\n",
       "   'roleArn': 'arn:aws:iam::698412098664:role/c99355a2566044l9709612t1w69841209866-LoggingIAMRole-K8gmFZHPyPsB',\n",
       "   'largeDataDeliveryS3Config': {'bucketName': 'c99355a2566044l9709612t1w698412098-loggings3bucket-mnkmsa9124tq',\n",
       "    'keyPrefix': 'amazon_bedrock_large_data_delivery'}},\n",
       "  's3Config': {'bucketName': 'c99355a2566044l9709612t1w698412098-loggings3bucket-mnkmsa9124tq',\n",
       "   'keyPrefix': 'amazon_bedrock_logs'},\n",
       "  'textDataDeliveryEnabled': True,\n",
       "  'imageDataDeliveryEnabled': True,\n",
       "  'embeddingDataDeliveryEnabled': True}}"
      ]
     },
     "execution_count": 7,
     "metadata": {},
     "output_type": "execute_result"
    }
   ],
   "source": [
    "bedrock.get_model_invocation_logging_configuration()"
   ]
  },
  {
   "cell_type": "code",
   "execution_count": 8,
   "id": "95ebecb7",
   "metadata": {
    "height": 30
   },
   "outputs": [],
   "source": [
    "bedrock_runtime = boto3.client('bedrock-runtime', region_name=\"us-west-2\")"
   ]
  },
  {
   "cell_type": "code",
   "execution_count": 9,
   "id": "402c6311",
   "metadata": {
    "height": 421
   },
   "outputs": [
    {
     "name": "stdout",
     "output_type": "stream",
     "text": [
      "\n",
      "Foobar is a fictional planet that appears in various science fiction works. It is a planet that is similar to Earth in many ways, but it also has its unique features. Foobar is a planet that orbits a star similar to our sun. It has a similar climate to Earth, with warm seasons and cold seasons. Foobar has a variety of landscapes, including mountains, forests, and oceans.\n",
      "\n",
      "One of the unique features of Foobar is its intelligent life. The planet is inhabited by a race of aliens known as the Foobarians. The Foobarians are a highly advanced species that have developed technology that is far beyond our own. They have created a society that is based on peace and harmony, and they have a strong sense of community.\n",
      "\n",
      "The Foobarians have a unique culture that is based on art, music, and literature. They have developed a language that is unique to their planet, and they have created a variety of art forms, including paintings, sculptures, and music. Foobar's music is particularly unique, with a rich and diverse range of styles.\n",
      "\n",
      "The Foobarians are also known for their scientific achievements. They have developed technologies that have allowed them to travel across the galaxy, and they have made significant contributions to the study of space. They have discovered new planets and stars, and they have developed new theories about the universe.\n",
      "\n",
      "However, Foobar is not without its challenges. The planet is home to a variety of dangerous creatures, including giant spiders, venomous snakes, and giant apes. The Foobarians have developed a variety of weapons and defenses to protect themselves from these creatures, but they are always at risk.\n",
      "\n",
      "In recent years, Foobar has become a popular destination for tourists. People from all over the galaxy come to visit the planet and experience its unique culture and landscapes. However, the tourism industry has also had a negative impact on the planet. The Foobarians have become increasingly concerned about the impact of tourism on their planet, and they have taken steps to regulate it.\n",
      "\n",
      "One of the most significant challenges facing Foobar is climate change. The planet is experiencing a warming climate, and this is causing a variety of problems for the Foobarians. The melting of the ice caps is causing sea levels to rise, and this is threatening the coastal cities of Foobar. The Foobarians have developed a variety of technologies to mitigate the effects of climate change, but they are still at risk.\n",
      "\n",
      "Another challenge facing Foobar is resource management. The planet has\n"
     ]
    }
   ],
   "source": [
    "prompt = \"Write an article about the fictional planet Foobar.\"\n",
    "\n",
    "kwargs = {\n",
    "    \"modelId\": \"amazon.titan-text-express-v1\",\n",
    "    \"contentType\": \"application/json\",\n",
    "    \"accept\": \"*/*\",\n",
    "    \"body\": json.dumps(\n",
    "        {\n",
    "            \"inputText\": prompt,\n",
    "            \"textGenerationConfig\": {\n",
    "                \"maxTokenCount\": 512,\n",
    "                \"temperature\": 0.7,\n",
    "                \"topP\": 0.9\n",
    "            }\n",
    "        }\n",
    "    )\n",
    "}\n",
    "\n",
    "response = bedrock_runtime.invoke_model(**kwargs)\n",
    "response_body = json.loads(response.get('body').read())\n",
    "\n",
    "generation = response_body['results'][0]['outputText']\n",
    "\n",
    "print(generation)"
   ]
  },
  {
   "cell_type": "code",
   "execution_count": 10,
   "id": "68a7bab7",
   "metadata": {
    "height": 30
   },
   "outputs": [
    {
     "name": "stdout",
     "output_type": "stream",
     "text": [
      "Permissions are correctly set for Amazon Bedrock logs.\n",
      "-------------------------\n",
      "\n"
     ]
    }
   ],
   "source": [
    "cloudwatch.print_recent_logs(log_group_name)"
   ]
  },
  {
   "cell_type": "markdown",
   "id": "1118acfb",
   "metadata": {},
   "source": [
    "To review the logs within the AWS console, please use the following link to reference the steps outlined in the video:"
   ]
  },
  {
   "cell_type": "code",
   "execution_count": 11,
   "id": "2cf443d2",
   "metadata": {
    "height": 47
   },
   "outputs": [],
   "source": [
    "from IPython.display import HTML\n",
    "aws_url = os.environ['AWS_CONSOLE_URL']"
   ]
  },
  {
   "cell_type": "code",
   "execution_count": 12,
   "id": "0b7c904c",
   "metadata": {
    "height": 47
   },
   "outputs": [
    {
     "data": {
      "text/html": [
       "<a href=\"https://signin.aws.amazon.com/federation?Action=login&SigninToken=uaPp5s-koo7xLn7MzvyN25GaZxaa9C9gvQMcHk1C-Tt0WkiaUo_6VIeV33WDave1p3ygL8LmClD_vvLGceIpc395ko86x5eGar_wXNUUHU-5djFksqDjfNAvyHpJ34MfFxkNAAYylIULQmPujZxFjGfmfUpsjqcg4T22qv9Ys6Zy_5xD6vDFaNGj-qtk0rKshAX4rbYMan2MSi9twQRvz5V-FHS3vxilANwH9KHxbUdESIIOQV6NG_TD0StD39iHAFK2UOydSxXx5y2r1inR-oLF4vD3fNGlCunm8iFizH_6QQgAJN7_k9nae_l66lQn2Pa3w0WZDFPVIy2u3MorcKv_BZYrH4r8IPp1KmhSTg9dDuz6iPHl-aeSH_3Xr1h4o7xFy4ZDw5MYQ_IgjCLt_EYDIVsXw-ciDVRfmuNqopR0FcRwofzLCT6v78wImGSSXHoBYBXHxONVXQgNnv5Sd3KxiMVeVdJqK4STJQ-KPU7v23astvK6Z1PwGch_qk9yZUfcXmPC_Tf_udjBYhrmJFPb8zeygfksJo1vWt2HW-TQyDaQrXQ7y--LlqrK0_LG3BNZ8-skckqK_ab-cHeF8j9taqL7xTAAo0NXtO8AApbE7Q8bqNYeYo743FjVVNwwbh8umgLd3w_D7qwfs9lphGLkxnWszhI0eXHSjLpB5nycQHf6eNMuM8TzeBn5hJSUzSRW8Xezk_97k0KJtymZQZlAF4w8UC8EIo0VhbRsl3NpvYt2QgwjcYhHN54HAF3-ZZ1ZLdbtAxZODiF_GYH9tqZo1JWNmaGI_ZiIkxhXhWHZYJ99GXGvqf-wP3xSZYIgpJLa7ru5qXsuB50KvbMO4FZN7ZpInlPCC0FxaFWnb-eu0yg2VFF0mHusGSEu5C1tuXWiAiXx6Q8u9eG1OaVfGZpnjJ6-ZlUS_sqomT_bQQ_qyWLaGYlPILdwMvFTuMLWqvoSVad2BCnFi-nZfwp5E3IZ2CASQbG96lCKxnJGTxGcKRXARRNhgNdIHjtOaxd6wiT8oTTFZVIWDTkogwvUJ9DKdHvn-VMpVgRjumppkTw8fWHy4Lj4jAYmADSCUsTcv8YLzUgWniiL8P8eI7LO7YWbHyUhyh3Hp2GZo24_iuCVq56ILxpByi_fXjn2dQ31uCTa57rv4B9GrGcIRXvXJXSHnv1cSFM_i5KaVhkW9RKsD9jldCXukb3zb9c8pDXW5ZNy7pVQrFS7Mg1vgnWlXc9n9eM7nWCEAvqCMD7PpkBY3Sp3GOLWiDPdEAOKNQ8dJMBtvd9ZH8sgEjDCtV-ID_sM_qLUfmRdG4oiDemxTLJMbVN0oQOLTlAZyHrkK7PthYgvDQeN_Z5R6wRt_oVrmFLNS2i1enmmXkv9QobT29EDWIruyPxmyR7HtPNLtoRaeN1frz52lv9qqhvKnhcuJ6gQfo43TPykp_w4cdonPLj2z-yVa4TNKwGfM2swhHvOarVfQDUfh6T4R3tW5rGi9akRhUpANE7kWT5BEvYMIm9wgzUMvUAl9lygMETwzElXi6wtNJNYkRHnZA&Issuer=https%3A%2F%2Fapi.vocareum.com&Destination=https%3A%2F%2Fconsole.aws.amazon.com%2Fconsole%2Fhome%3Fregion%3Dus-west-2\" target=\"_blank\">GO TO AWS CONSOLE</a>"
      ],
      "text/plain": [
       "<IPython.core.display.HTML object>"
      ]
     },
     "execution_count": 12,
     "metadata": {},
     "output_type": "execute_result"
    }
   ],
   "source": [
    "HTML(f'<a href=\"{aws_url}\" target=\"_blank\">GO TO AWS CONSOLE</a>')\n"
   ]
  },
  {
   "cell_type": "code",
   "execution_count": null,
   "id": "2730a118",
   "metadata": {
    "height": 30
   },
   "outputs": [],
   "source": []
  }
 ],
 "metadata": {
  "kernelspec": {
   "display_name": "Python 3 (ipykernel)",
   "language": "python",
   "name": "python3"
  },
  "language_info": {
   "codemirror_mode": {
    "name": "ipython",
    "version": 3
   },
   "file_extension": ".py",
   "mimetype": "text/x-python",
   "name": "python",
   "nbconvert_exporter": "python",
   "pygments_lexer": "ipython3",
   "version": "3.11.9"
  }
 },
 "nbformat": 4,
 "nbformat_minor": 5
}
