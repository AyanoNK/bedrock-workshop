{
 "cells": [
  {
   "cell_type": "markdown",
   "id": "81555c27-b84e-4d98-a9c0-5e914f9160b6",
   "metadata": {},
   "source": [
    "## Lesson 2: Connecting with a CRM"
   ]
  },
  {
   "cell_type": "markdown",
   "id": "95c87c0c-e8e5-4572-bcdf-949511860b5c",
   "metadata": {},
   "source": [
    "## Preparation \n",
    "<p style=\"background-color:#fff6ff; padding:15px; border-width:3px; border-color:#efe6ef; border-style:solid; border-radius:6px\"> 💻 &nbsp; <b>Access <code>requirements.txt</code> and <code>helper.py</code> and other files:</b> 1) click on the <em>\"File\"</em> option on the top menu of the notebook and then 2) click on <em>\"Open\"</em>. For more help, please see the <em>\"Appendix - Tips and Help\"</em> Lesson.</p>"
   ]
  },
  {
   "cell_type": "code",
   "execution_count": 1,
   "id": "8ba36517",
   "metadata": {
    "height": 234
   },
   "outputs": [
    {
     "name": "stdout",
     "output_type": "stream",
     "text": [
      "Resetting environment (if nessesary)\n",
      "Found: mugs-customer-support-agent\n",
      "Deleting alias: MyAgentAlias (ID: CCZTY0GASO)\n",
      "Deletion initiated for alias: MyAgentAlias\n",
      "Alias MyAgentAlias has been successfully deleted.\n",
      "Deleting alias: AgentTestAlias (ID: TSTALIASID)\n",
      "Deletion initiated for alias: AgentTestAlias\n",
      "Alias AgentTestAlias has been successfully deleted.\n",
      "Deleting agent: mugs-customer-support-agent (ID: VRLBJVA7GN)\n",
      "Deletion initiated for agent: mugs-customer-support-agent\n",
      "Waiting for agent mugs-customer-support-agent to be deleted...\n",
      "Waiting for agent mugs-customer-support-agent to be deleted...\n",
      "Agent mugs-customer-support-agent has been successfully deleted.\n",
      "Agent reset process completed.\n",
      "Deleting Lambda function: dlai-support-agent-I061F\n",
      "Lambda function dlai-support-agent-I061F deleted successfully.\n",
      "Lambda reset process completed.\n",
      "Guardrail reset process completed.\n",
      "Environment reset complete.\n",
      "Lesson 2 Prep\n",
      "Waiting for agent status of 'NOT_PREPARED'...\n",
      "Agent status: CREATING\n",
      "Agent status: NOT_PREPARED\n",
      "Agent reached 'NOT_PREPARED' status.\n",
      "Waiting for agent status of 'PREPARED'...\n",
      "Agent status: PREPARING\n",
      "Agent status: PREPARED\n",
      "Agent reached 'PREPARED' status.\n",
      "Waiting for agent alias status of 'PREPARED'...\n",
      "Agent alias status: CREATING\n",
      "Agent alias status: CREATING\n",
      "Agent alias status: PREPARED\n",
      "Agent alias reached status 'PREPARED'\n"
     ]
    }
   ],
   "source": [
    "# Before you start, please run the following code to set up your environment.\n",
    "# This code will reset the environment (if needed) and prepare the resources for the lesson.\n",
    "# It does this by quickly running through all the code from the previous lessons.\n",
    "\n",
    "!sh ./ro_shared_data/reset.sh\n",
    "%run ./ro_shared_data/lesson_2_prep.py lesson2\n",
    "\n",
    "import os\n",
    "\n",
    "agentId = os.environ['BEDROCK_AGENT_ID']\n",
    "agentAliasId = os.environ['BEDROCK_AGENT_ALIAS_ID']\n",
    "region_name = 'us-west-2'\n",
    "lambda_function_arn = os.environ['LAMBDA_FUNCTION_ARN']"
   ]
  },
  {
   "cell_type": "markdown",
   "id": "41f1d24c",
   "metadata": {},
   "source": [
    "## Start of lesson"
   ]
  },
  {
   "cell_type": "code",
   "execution_count": 2,
   "id": "2f5daa92",
   "metadata": {
    "height": 64
   },
   "outputs": [],
   "source": [
    "import boto3\n",
    "import uuid\n",
    "from helper import *"
   ]
  },
  {
   "cell_type": "code",
   "execution_count": 3,
   "id": "ab818baf",
   "metadata": {
    "height": 47
   },
   "outputs": [],
   "source": [
    "sessionId = str(uuid.uuid4())\n",
    "message = \"My name is Mike, my mug is broken and I want a refund.\""
   ]
  },
  {
   "cell_type": "code",
   "execution_count": 4,
   "id": "238a8cc7",
   "metadata": {
    "height": 115
   },
   "outputs": [
    {
     "name": "stdout",
     "output_type": "stream",
     "text": [
      "User: My name is Mike, my mug is broken and I want a refund.\n",
      "\n",
      "Agent: Mike, I'm sorry to hear your mug is broken. To get a refund, I'll need\n",
      "       to transfer you to one of our human customer support agents who\n",
      "       can look into your order details and process the refund for\n",
      "       you. Please hold while I connect you. Thank you for your\n",
      "       patience.\n",
      "\n",
      "Session ID: b7cc160c-cd59-48e7-9338-beb844e73451\n"
     ]
    }
   ],
   "source": [
    "invoke_agent_and_print(\n",
    "    agentId=agentId, \n",
    "    agentAliasId=agentAliasId, \n",
    "    inputText=message, \n",
    "    sessionId=sessionId\n",
    ")"
   ]
  },
  {
   "cell_type": "markdown",
   "id": "eaf83b88-c932-4010-aa6e-074eb89f8234",
   "metadata": {},
   "source": [
    "<p style=\"background-color:#fff6ff; padding:15px; border-width:3px; border-color:#efe6ef; border-style:solid; border-radius:6px\"> 💻 &nbsp; The file that is examined in the video is at  <code>./ro_shared_data/functions/lambda_stage_1.py</code> </p>"
   ]
  },
  {
   "cell_type": "code",
   "execution_count": 5,
   "id": "943483a0",
   "metadata": {
    "height": 30
   },
   "outputs": [],
   "source": [
    "bedrock_agent = boto3.client(service_name = 'bedrock-agent', region_name = region_name)"
   ]
  },
  {
   "cell_type": "code",
   "execution_count": 6,
   "id": "0af246c5",
   "metadata": {
    "height": 861
   },
   "outputs": [],
   "source": [
    "create_agent_action_group_response = bedrock_agent.create_agent_action_group(\n",
    "    actionGroupName='customer-support-actions',\n",
    "    agentId=agentId,\n",
    "    actionGroupExecutor={\n",
    "        'lambda': lambda_function_arn\n",
    "    },\n",
    "    functionSchema={\n",
    "        'functions': [\n",
    "            {\n",
    "                'name': 'customerId',\n",
    "                'description': 'Get a customer ID given available details. At least one parameter must be sent to the function. This is private information and must not be given to the user.',\n",
    "                'parameters': {\n",
    "                    'email': {\n",
    "                        'description': 'Email address',\n",
    "                        'required': False,\n",
    "                        'type': 'string'\n",
    "                    },\n",
    "                    'name': {\n",
    "                        'description': 'Customer name',\n",
    "                        'required': False,\n",
    "                        'type': 'string'\n",
    "                    },\n",
    "                    'phone': {\n",
    "                        'description': 'Phone number',\n",
    "                        'required': False,\n",
    "                        'type': 'string'\n",
    "                    },\n",
    "                }\n",
    "            },            \n",
    "            {\n",
    "                'name': 'sendToSupport',\n",
    "                'description': 'Send a message to the support team, used for service escalation. ',\n",
    "                'parameters': {\n",
    "                    'custId': {\n",
    "                        'description': 'customer ID',\n",
    "                        'required': True,\n",
    "                        'type': 'string'\n",
    "                    },\n",
    "                    'supportSummary': {\n",
    "                        'description': 'Summary of the support request',\n",
    "                        'required': True,\n",
    "                        'type': 'string'\n",
    "                    }\n",
    "                }\n",
    "            }\n",
    "        ]\n",
    "    },\n",
    "    agentVersion='DRAFT',\n",
    ")"
   ]
  },
  {
   "cell_type": "code",
   "execution_count": 7,
   "id": "064dd549",
   "metadata": {
    "height": 30
   },
   "outputs": [
    {
     "data": {
      "text/plain": [
       "{'ResponseMetadata': {'RequestId': '5a974dfe-4781-4ef0-b461-3eb9478658fe',\n",
       "  'HTTPStatusCode': 200,\n",
       "  'HTTPHeaders': {'date': 'Fri, 28 Mar 2025 00:15:11 GMT',\n",
       "   'content-type': 'application/json',\n",
       "   'content-length': '1187',\n",
       "   'connection': 'keep-alive',\n",
       "   'x-amzn-requestid': '5a974dfe-4781-4ef0-b461-3eb9478658fe',\n",
       "   'x-amz-apigw-id': 'IHGCgGVYPHcEtBw=',\n",
       "   'x-amzn-trace-id': 'Root=1-67e5ea0f-7a657eb5776d1f7b3949f3f7'},\n",
       "  'RetryAttempts': 0},\n",
       " 'agentActionGroup': {'actionGroupExecutor': {'lambda': 'arn:aws:lambda:us-west-2:637423536516:function:dlai-support-agent-8UDM0'},\n",
       "  'actionGroupId': 'XZ6X0JL22O',\n",
       "  'actionGroupName': 'customer-support-actions',\n",
       "  'actionGroupState': 'ENABLED',\n",
       "  'agentId': '7MHUJ8DSVB',\n",
       "  'agentVersion': 'DRAFT',\n",
       "  'createdAt': datetime.datetime(2025, 3, 28, 0, 15, 11, 736849, tzinfo=tzlocal()),\n",
       "  'functionSchema': {'functions': [{'description': 'Get a customer ID given available details. At least one parameter must be sent to the function. This is private information and must not be given to the user.',\n",
       "     'name': 'customerId',\n",
       "     'parameters': {'phone': {'description': 'Phone number',\n",
       "       'required': False,\n",
       "       'type': 'string'},\n",
       "      'name': {'description': 'Customer name',\n",
       "       'required': False,\n",
       "       'type': 'string'},\n",
       "      'email': {'description': 'Email address',\n",
       "       'required': False,\n",
       "       'type': 'string'}},\n",
       "     'requireConfirmation': 'DISABLED'},\n",
       "    {'description': 'Send a message to the support team, used for service escalation. ',\n",
       "     'name': 'sendToSupport',\n",
       "     'parameters': {'supportSummary': {'description': 'Summary of the support request',\n",
       "       'required': True,\n",
       "       'type': 'string'},\n",
       "      'custId': {'description': 'customer ID',\n",
       "       'required': True,\n",
       "       'type': 'string'}},\n",
       "     'requireConfirmation': 'DISABLED'}]},\n",
       "  'updatedAt': datetime.datetime(2025, 3, 28, 0, 15, 11, 736849, tzinfo=tzlocal())}}"
      ]
     },
     "execution_count": 7,
     "metadata": {},
     "output_type": "execute_result"
    }
   ],
   "source": [
    "create_agent_action_group_response"
   ]
  },
  {
   "cell_type": "code",
   "execution_count": 8,
   "id": "201cfd58",
   "metadata": {
    "height": 47
   },
   "outputs": [],
   "source": [
    "actionGroupId = create_agent_action_group_response['agentActionGroup']['actionGroupId']\n"
   ]
  },
  {
   "cell_type": "code",
   "execution_count": 9,
   "id": "547bcb7b",
   "metadata": {
    "height": 98
   },
   "outputs": [
    {
     "name": "stdout",
     "output_type": "stream",
     "text": [
      "Action Group status: ENABLED\n"
     ]
    },
    {
     "data": {
      "text/plain": [
       "'ENABLED'"
      ]
     },
     "execution_count": 9,
     "metadata": {},
     "output_type": "execute_result"
    }
   ],
   "source": [
    "wait_for_action_group_status(\n",
    "    agentId=agentId, \n",
    "    actionGroupId=actionGroupId,\n",
    "    targetStatus='ENABLED'\n",
    ")"
   ]
  },
  {
   "cell_type": "code",
   "execution_count": 10,
   "id": "9c604dc9",
   "metadata": {
    "height": 149
   },
   "outputs": [
    {
     "name": "stdout",
     "output_type": "stream",
     "text": [
      "Waiting for agent status of 'PREPARED'...\n",
      "Agent status: PREPARING\n",
      "Agent status: PREPARED\n",
      "Agent reached 'PREPARED' status.\n"
     ]
    }
   ],
   "source": [
    "bedrock_agent.prepare_agent(\n",
    "    agentId=agentId\n",
    ")\n",
    "\n",
    "wait_for_agent_status(\n",
    "    agentId=agentId,\n",
    "    targetStatus='PREPARED'\n",
    ")"
   ]
  },
  {
   "cell_type": "code",
   "execution_count": 11,
   "id": "cdc02871",
   "metadata": {
    "height": 200
   },
   "outputs": [
    {
     "name": "stdout",
     "output_type": "stream",
     "text": [
      "Waiting for agent alias status of 'PREPARED'...\n",
      "Agent alias status: UPDATING\n",
      "Agent alias status: UPDATING\n",
      "Agent alias status: PREPARED\n",
      "Agent alias reached status 'PREPARED'\n"
     ]
    }
   ],
   "source": [
    "bedrock_agent.update_agent_alias(\n",
    "    agentId=agentId,\n",
    "    agentAliasId=agentAliasId,\n",
    "    agentAliasName='MyAgentAlias',\n",
    ")\n",
    "\n",
    "wait_for_agent_alias_status(\n",
    "    agentId=agentId,\n",
    "    agentAliasId=agentAliasId,\n",
    "    targetStatus='PREPARED'\n",
    ")"
   ]
  },
  {
   "cell_type": "markdown",
   "id": "89604c7f-6dbd-435f-b830-cb7b644e2774",
   "metadata": {},
   "source": [
    "### Now use the agent with functions"
   ]
  },
  {
   "cell_type": "code",
   "execution_count": 12,
   "id": "9b576843",
   "metadata": {
    "height": 47
   },
   "outputs": [],
   "source": [
    "sessionId = str(uuid.uuid4())\n",
    "message = \"My name is Mike (mike@mike.com), my mug is broken and I want a refund.\""
   ]
  },
  {
   "cell_type": "code",
   "execution_count": 13,
   "id": "e5634afc-e5be-43a1-8241-a53914315cb7",
   "metadata": {
    "height": 132
   },
   "outputs": [
    {
     "name": "stdout",
     "output_type": "stream",
     "text": [
      "User: My name is Mike (mike@mike.com), my mug is broken and I want a refund.\n",
      "\n",
      "Agent:  Hmm, it looks like I'm missing some details to properly route this to\n",
      "       the support team. Let me ask the customer for some additional\n",
      "       information.  Could you please provide more details about the\n",
      "       broken mug, such as: - When did you purchase the mug? - Where\n",
      "       did you purchase it from (online, in-store, etc.)? - Do you\n",
      "       have any order or purchase details that could help us locate\n",
      "       the transaction? - Any other relevant details about the issue\n",
      "       with the mug?  With this additional information, I can better\n",
      "       summarize the issue and route it to the appropriate support\n",
      "       team to assist you with the refund request.\n",
      "\n",
      "Session ID: ee78ee11-044c-4d44-8673-5b5069235f84\n"
     ]
    }
   ],
   "source": [
    "invoke_agent_and_print(\n",
    "    agentId=agentId,\n",
    "    agentAliasId=agentAliasId,\n",
    "    inputText=message,\n",
    "    sessionId=sessionId,\n",
    "    enableTrace=False\n",
    ")"
   ]
  },
  {
   "cell_type": "code",
   "execution_count": 14,
   "id": "864706f7",
   "metadata": {
    "height": 132
   },
   "outputs": [
    {
     "name": "stdout",
     "output_type": "stream",
     "text": [
      "User: My name is Mike (mike@mike.com), my mug is broken and I want a refund.\n",
      "\n",
      "Agent: \n",
      "Agent's thought process:\n",
      "  Okay, let me try processing this again with the information\n",
      "  provided.  I was able to look up the customer's account details\n",
      "  using the name and email, and the customer ID is 1006.  Since the\n",
      "  customer is reporting a broken mug and requesting a refund, I will\n",
      "  need to route this to the support team to properly handle the refund\n",
      "  request and product issue.\n",
      "\n",
      "Invocation Input:\n",
      "  Type: ACTION_GROUP\n",
      "  Action Group: customer-support-actions\n",
      "  Function: sendToSupport\n",
      "  Parameters: [{'name': 'supportSummary', 'type': 'string', 'value': 'Customer Mike (mike@mike.com, customer ID 1006) is reporting a broken mug and requesting a refund.'}, {'name': 'custId', 'type': 'string', 'value': '1006'}]\n",
      "\n",
      "Observation:\n",
      "  Type: ACTION_GROUP\n",
      "  Action Group Output: {'error':'Details missing.'}\n",
      "\n",
      "Agent's thought process:\n",
      "  Hmm, it seems like I'm still missing some key details to properly\n",
      "  route this to the support team. Let me try asking the customer for a\n",
      "  bit more information again.\n",
      "\n",
      "Observation:\n",
      "  Type: FINISH\n",
      "\n",
      "Final response:\n",
      "  I apologize, but I'm still missing some details to fully process\n",
      "  your refund request for the broken mug. Could you please provide a\n",
      "  bit more information:  - When and where did you purchase the mug? -\n",
      "  Do you have any order or purchase details that could help us locate\n",
      "  the transaction? - Any other relevant details about the issue with\n",
      "  the mug and when it broke?  With this additional information, I can\n",
      "  better summarize the issue and route it to the appropriate support\n",
      "  team to assist you with the refund. Please let me know if you can\n",
      "  provide any of those details.\n",
      "\n",
      "\n",
      "Session ID: ee78ee11-044c-4d44-8673-5b5069235f84\n"
     ]
    }
   ],
   "source": [
    "invoke_agent_and_print(\n",
    "    agentId=agentId,\n",
    "    agentAliasId=agentAliasId,\n",
    "    inputText=message,\n",
    "    sessionId=sessionId,\n",
    "    enableTrace=True\n",
    ")"
   ]
  },
  {
   "cell_type": "code",
   "execution_count": null,
   "id": "f0c9df48-1bf0-479e-80d8-576d1527afa1",
   "metadata": {
    "height": 30
   },
   "outputs": [],
   "source": []
  }
 ],
 "metadata": {
  "kernelspec": {
   "display_name": "Python 3 (ipykernel)",
   "language": "python",
   "name": "python3"
  },
  "language_info": {
   "codemirror_mode": {
    "name": "ipython",
    "version": 3
   },
   "file_extension": ".py",
   "mimetype": "text/x-python",
   "name": "python",
   "nbconvert_exporter": "python",
   "pygments_lexer": "ipython3",
   "version": "3.11.9"
  }
 },
 "nbformat": 4,
 "nbformat_minor": 5
}
